{
 "cells": [
  {
   "cell_type": "markdown",
   "metadata": {},
   "source": [
    "From: https://github.com/ksatola/Computational-Statistics"
   ]
  },
  {
   "cell_type": "markdown",
   "metadata": {},
   "source": [
    "# Is a drug effective or not?"
   ]
  },
  {
   "cell_type": "code",
   "execution_count": 1,
   "metadata": {},
   "outputs": [],
   "source": [
    "drug = [54, 73, 53, 70, 73, 68, 52, 65, 65] # treatment group\n",
    "placebo = [54, 51, 58, 44, 55, 52, 42, 47, 58, 46] # control group"
   ]
  },
  {
   "cell_type": "markdown",
   "metadata": {},
   "source": [
    "$$\n",
    "H_0 : \\mu_{drug} - \\mu_{placebo} = 0 \\\\\n",
    "H_1 : \\mu_{drug} - \\mu_{placebo} <> 0\n",
    "$$\n",
    "Where:\n",
    "\n",
    "$ H_0 $ -> **The null hypothesis:** there is no difference in the drug and placebo groups on average (the drug does not have any effect). The null hypothesis should always contain `=` sign.\n",
    "\n",
    "$ H_1 $ -> **The alternative hypothesis:** there is a significant difference in the drug and placebo groups on average (the drug works).\n",
    "\n",
    "I will assume **Type I Error / a significance level (alpha)** at 0.01.\n",
    "\n",
    "Remarks:\n",
    "- **Type I Error.** Reject the null hypothesis when there is in fact no significant effect (false positive). The p-value is optimistically small.\n",
    "- **Type II Error.** Not reject the null hypothesis when there is a significant effect (false negative). The p-value is pessimistically large."
   ]
  },
  {
   "cell_type": "code",
   "execution_count": 2,
   "metadata": {},
   "outputs": [],
   "source": [
    "# Significance level\n",
    "alpha = 0.01"
   ]
  },
  {
   "cell_type": "markdown",
   "metadata": {},
   "source": [
    "## Analytical Method"
   ]
  },
  {
   "cell_type": "code",
   "execution_count": 3,
   "metadata": {},
   "outputs": [],
   "source": [
    "import numpy as np"
   ]
  },
  {
   "cell_type": "code",
   "execution_count": 4,
   "metadata": {},
   "outputs": [
    {
     "data": {
      "text/plain": [
       "12.966666666666661"
      ]
     },
     "execution_count": 4,
     "metadata": {},
     "output_type": "execute_result"
    }
   ],
   "source": [
    "# Means difference of the samples\n",
    "np.mean(drug) - np.mean(placebo)"
   ]
  },
  {
   "cell_type": "markdown",
   "metadata": {},
   "source": [
    "Is the means difference statistically significant?\n",
    "\n",
    "We use **T-Student sampling distribution** and calculate **t-test** statistic to find out.\n",
    "\n",
    "**T-test** assumptions:\n",
    "1. Both groups (drug and placebo) should be normally distributed\n",
    "- Samples should come from populations with equal variances\n",
    "- Samples should be of the same size\n",
    "- At best there should be more than 20 observations in a sample"
   ]
  },
  {
   "cell_type": "markdown",
   "metadata": {},
   "source": [
    "### Assumption 1\n",
    "Both groups (drug and placebo) should be normally distributed"
   ]
  },
  {
   "cell_type": "code",
   "execution_count": 5,
   "metadata": {},
   "outputs": [
    {
     "data": {
      "image/png": "[encoded data removed]",
      "text/plain": [
       "<Figure size 432x288 with 1 Axes>"
      ]
     },
     "metadata": {
      "needs_background": "light"
     },
     "output_type": "display_data"
    }
   ],
   "source": [
    "import matplotlib.pyplot as plt\n",
    "%matplotlib inline\n",
    "import seaborn as sns\n",
    "\n",
    "sns.distplot(drug, color=\"skyblue\", label=\"Drug\", kde=False, hist=True, rug=\"True\")\n",
    "sns.distplot(placebo, color=\"red\", label=\"Placebo\", kde=False, hist=True, rug=\"True\")\n",
    "plt.legend();"
   ]
  },
  {
   "cell_type": "code",
   "execution_count": 6,
   "metadata": {},
   "outputs": [],
   "source": [
    "from scipy import stats\n",
    "\n",
    "def normaltest(sample, name, alpha=0.05):\n",
    "    '''\n",
    "    Shapiro-Wilk test for samples with n < 50 observations.\n",
    "    Reference: https://docs.scipy.org/doc/scipy/reference/generated/scipy.stats.shapiro.html\n",
    "    '''\n",
    "    W, p = stats.shapiro(sample)\n",
    "    #print(\"W = {:g}\".format(W))\n",
    "    #print(\"p = {:g}\".format(p))\n",
    "    if p < alpha:  # null hypothesis: sample comes from a normal distribution\n",
    "        print(\"{} does not come from a normal distribution\".format(name))\n",
    "    else:\n",
    "        print(\"{} comes from a normal distribution\".format(name))"
   ]
  },
  {
   "cell_type": "code",
   "execution_count": 7,
   "metadata": {},
   "outputs": [
    {
     "name": "stdout",
     "output_type": "stream",
     "text": [
      "Drug comes from a normal distribution\n"
     ]
    }
   ],
   "source": [
    "# Is drug normally distributed?\n",
    "normaltest(drug, \"Drug\")"
   ]
  },
  {
   "cell_type": "code",
   "execution_count": 8,
   "metadata": {},
   "outputs": [
    {
     "name": "stdout",
     "output_type": "stream",
     "text": [
      "Placebo comes from a normal distribution\n"
     ]
    }
   ],
   "source": [
    "# Is placebo normally distributed?\n",
    "normaltest(placebo, \"Placebo\")"
   ]
  },
  {
   "cell_type": "code",
   "execution_count": 9,
   "metadata": {},
   "outputs": [],
   "source": [
    "# To solve the issue of having too small sample size...\n",
    "# I could use the following:  (just kidding!)\n",
    "import warnings\n",
    "warnings.filterwarnings('ignore')"
   ]
  },
  {
   "cell_type": "markdown",
   "metadata": {},
   "source": [
    "### Assumption 2\n",
    "Samples should come from populations with equal variances"
   ]
  },
  {
   "cell_type": "code",
   "execution_count": 10,
   "metadata": {},
   "outputs": [],
   "source": [
    "def varsequals(sample1, sample2, alpha=0.01):\n",
    "    '''\n",
    "    Perform Bartlett’s test for equal variances.\n",
    "    Bartlett’s test tests the null hypothesis that all input samples are from populations with equal variances.\n",
    "    Reference: https://docs.scipy.org/doc/scipy-0.14.0/reference/generated/scipy.stats.bartlett.html\n",
    "    ''' \n",
    "    T, p = stats.bartlett(sample1, sample2)\n",
    "    #print(\"T = {:g}\".format(T))\n",
    "    #print(\"p = {:g}\".format(p))\n",
    "    if p < alpha:  # null hypothesis: all input samples are from populations with equal variances\n",
    "        print(\"Not all input samples are from populations with equal variances.\")\n",
    "    else:\n",
    "        print(\"All input samples are from populations with equal variances.\")"
   ]
  },
  {
   "cell_type": "code",
   "execution_count": 11,
   "metadata": {},
   "outputs": [
    {
     "name": "stdout",
     "output_type": "stream",
     "text": [
      "All input samples are from populations with equal variances.\n"
     ]
    }
   ],
   "source": [
    "varsequals(drug, placebo)"
   ]
  },
  {
   "cell_type": "markdown",
   "metadata": {},
   "source": [
    "### Calculate t-statistic\n",
    "Are our samples expected to have been drawn from the same population?"
   ]
  },
  {
   "cell_type": "code",
   "execution_count": 12,
   "metadata": {},
   "outputs": [
    {
     "name": "stdout",
     "output_type": "stream",
     "text": [
      "t=3.9357, p=0.0011\n"
     ]
    }
   ],
   "source": [
    "# p-value: Probability of obtaining a result equal to or more extreme than was observed in the data.\n",
    "t_stat, p = stats.ttest_ind(drug, placebo) # all observations are independent\n",
    "print('t={:.4f}, p={:.4f}'.format(t_stat, p))"
   ]
  },
  {
   "cell_type": "markdown",
   "metadata": {},
   "source": [
    "The p-value returned by the t-test is two-tailed by design (if we were testing one-tailed hypothesis, is such case we would have to divide the p-value by 2). The p-value is far lower than our alpha, so we can conclude we can reject the null hypothesis.\n",
    "\n",
    "If the p-value were not as small, we should calculate the critical value (below):"
   ]
  },
  {
   "cell_type": "code",
   "execution_count": 13,
   "metadata": {},
   "outputs": [
    {
     "data": {
      "text/plain": [
       "17"
      ]
     },
     "execution_count": 13,
     "metadata": {},
     "output_type": "execute_result"
    }
   ],
   "source": [
    "# Calculate degrees of freedom\n",
    "df = len(drug) + len(placebo) - 2\n",
    "df"
   ]
  },
  {
   "cell_type": "code",
   "execution_count": 14,
   "metadata": {},
   "outputs": [
    {
     "data": {
      "text/plain": [
       "0.01"
      ]
     },
     "execution_count": 14,
     "metadata": {},
     "output_type": "execute_result"
    }
   ],
   "source": [
    "alpha"
   ]
  },
  {
   "cell_type": "code",
   "execution_count": 15,
   "metadata": {},
   "outputs": [
    {
     "name": "stdout",
     "output_type": "stream",
     "text": [
      "2.8982305196347173\n"
     ]
    }
   ],
   "source": [
    "# Calculate the critical value (two-tailed test)\n",
    "# PPF (percent point function)\n",
    "cv = stats.t.ppf(1.0 - alpha/2, df)\n",
    "print(cv)\n",
    "\n",
    "# Confirm cv with CDF (cumulative distribution function)\n",
    "#p = stats.t.cdf(cv, df)\n",
    "#print(p)"
   ]
  },
  {
   "cell_type": "markdown",
   "metadata": {},
   "source": [
    "<center><img src=\"images/t_table.jpeg\" width=\"70%\"/></center>"
   ]
  },
  {
   "cell_type": "code",
   "execution_count": 16,
   "metadata": {},
   "outputs": [
    {
     "name": "stdout",
     "output_type": "stream",
     "text": [
      "Reject the null hypothesis that the means are equal.\n"
     ]
    }
   ],
   "source": [
    "# Interpret via critical value (abs for symmetric distribution)\n",
    "if abs(t_stat) <= cv:\n",
    "    print('Accept null hypothesis that the means are equal.')\n",
    "else:\n",
    "    print('Reject the null hypothesis that the means are equal.')"
   ]
  },
  {
   "cell_type": "code",
   "execution_count": 17,
   "metadata": {},
   "outputs": [
    {
     "name": "stdout",
     "output_type": "stream",
     "text": [
      "Reject the null hypothesis that the means are equal.\n"
     ]
    }
   ],
   "source": [
    "# Interpret via p-value\n",
    "if p < alpha:\n",
    "    print('Reject the null hypothesis that the means are equal.')\n",
    "else:\n",
    "    print('Accept null hypothesis that the means are equal.')"
   ]
  },
  {
   "cell_type": "markdown",
   "metadata": {},
   "source": [
    "### Hypothesis test result\n",
    "We have sufficient evidence to reject **the null hypothesis** which means the drug works."
   ]
  },
  {
   "cell_type": "markdown",
   "metadata": {},
   "source": [
    "## Permutation Testing (Computational Method)"
   ]
  },
  {
   "cell_type": "code",
   "execution_count": 18,
   "metadata": {},
   "outputs": [],
   "source": [
    "# Python's statitics module provides functions \n",
    "# for calculating mathematical statistics of numeric (real-valued) data\n",
    "from statistics import mean\n",
    "from random import shuffle"
   ]
  },
  {
   "cell_type": "code",
   "execution_count": 19,
   "metadata": {},
   "outputs": [
    {
     "data": {
      "text/plain": [
       "\u001b[0;31mSignature:\u001b[0m \u001b[0mmean\u001b[0m\u001b[0;34m(\u001b[0m\u001b[0mdata\u001b[0m\u001b[0;34m)\u001b[0m\u001b[0;34m\u001b[0m\u001b[0;34m\u001b[0m\u001b[0m\n",
       "\u001b[0;31mDocstring:\u001b[0m\n",
       "Return the sample arithmetic mean of data.\n",
       "\n",
       ">>> mean([1, 2, 3, 4, 4])\n",
       "2.8\n",
       "\n",
       ">>> from fractions import Fraction as F\n",
       ">>> mean([F(3, 7), F(1, 21), F(5, 3), F(1, 3)])\n",
       "Fraction(13, 21)\n",
       "\n",
       ">>> from decimal import Decimal as D\n",
       ">>> mean([D(\"0.5\"), D(\"0.75\"), D(\"0.625\"), D(\"0.375\")])\n",
       "Decimal('0.5625')\n",
       "\n",
       "If ``data`` is empty, StatisticsError will be raised.\n",
       "\u001b[0;31mFile:\u001b[0m      ~/anaconda3/lib/python3.7/statistics.py\n",
       "\u001b[0;31mType:\u001b[0m      function\n"
      ]
     },
     "metadata": {},
     "output_type": "display_data"
    }
   ],
   "source": [
    "mean?"
   ]
  },
  {
   "cell_type": "code",
   "execution_count": 20,
   "metadata": {},
   "outputs": [
    {
     "name": "stdout",
     "output_type": "stream",
     "text": [
      "63.666666666666664\n",
      "50.7\n",
      "12.97\n"
     ]
    }
   ],
   "source": [
    "observed_diff = mean(drug) - mean(placebo)\n",
    "\n",
    "print(mean(drug))\n",
    "print(mean(placebo))\n",
    "\n",
    "print(f\"{observed_diff:.2f}\")"
   ]
  },
  {
   "cell_type": "code",
   "execution_count": 21,
   "metadata": {},
   "outputs": [
    {
     "data": {
      "image/png": "[encoded data removed]",
      "text/plain": [
       "<Figure size 432x288 with 1 Axes>"
      ]
     },
     "metadata": {
      "needs_background": "light"
     },
     "output_type": "display_data"
    }
   ],
   "source": [
    "# Always visually inspect your data\n",
    "import matplotlib.pylab as plt\n",
    "import seaborn as sns # A library for statical plotting\n",
    "\n",
    "%matplotlib inline\n",
    "\n",
    "sns.distplot(drug, color=\"skyblue\", label=\"Drug\", kde=False, hist=True, rug=\"True\");\n",
    "sns.distplot(placebo, color=\"red\", label=\"Placebo\", kde=False, hist=True, rug=\"True\");\n",
    "plt.legend(); # Seaborn plots are interoperatable with matplotlib"
   ]
  },
  {
   "cell_type": "markdown",
   "metadata": {},
   "source": [
    "#### What would it look if there were no difference in the groups?\n",
    "#### That is the same if take the data and shuffled labels."
   ]
  },
  {
   "cell_type": "markdown",
   "metadata": {},
   "source": [
    "Let's assume there is no difference in means of the treatment and control group. If so, we can merge the observations from both groups and we can check how likely is that the observed_diff value or greater appears if there is no difference in the groups.\n",
    "\n",
    "Let's check how likely is for our `observed_diff` value or greater to exist when doing random groups assignment from the common pool many times. If the null hypothesis is true (the drug does not work, on average group means are close to 0) we should observe many occurences of mean differences equal or greater to `observed_diff`. If not, then we can safely reject the null hypothesis."
   ]
  },
  {
   "cell_type": "code",
   "execution_count": 22,
   "metadata": {},
   "outputs": [
    {
     "data": {
      "text/plain": [
       "([54, 73, 53, 70, 73, 68, 52, 65, 65],\n",
       " [54, 51, 58, 44, 55, 52, 42, 47, 58, 46])"
      ]
     },
     "execution_count": 22,
     "metadata": {},
     "output_type": "execute_result"
    }
   ],
   "source": [
    "drug, placebo"
   ]
  },
  {
   "cell_type": "code",
   "execution_count": 23,
   "metadata": {},
   "outputs": [
    {
     "data": {
      "text/plain": [
       "[54, 73, 53, 70, 73, 68, 52, 65, 65, 54, 51, 58, 44, 55, 52, 42, 47, 58, 46]"
      ]
     },
     "execution_count": 23,
     "metadata": {},
     "output_type": "execute_result"
    }
   ],
   "source": [
    "# Unite the data\n",
    "combined = drug + placebo\n",
    "combined"
   ]
  },
  {
   "cell_type": "code",
   "execution_count": 24,
   "metadata": {},
   "outputs": [
    {
     "data": {
      "text/plain": [
       "\u001b[0;31mSignature:\u001b[0m \u001b[0mshuffle\u001b[0m\u001b[0;34m(\u001b[0m\u001b[0mx\u001b[0m\u001b[0;34m,\u001b[0m \u001b[0mrandom\u001b[0m\u001b[0;34m=\u001b[0m\u001b[0;32mNone\u001b[0m\u001b[0;34m)\u001b[0m\u001b[0;34m\u001b[0m\u001b[0;34m\u001b[0m\u001b[0m\n",
       "\u001b[0;31mDocstring:\u001b[0m\n",
       "Shuffle list x in place, and return None.\n",
       "\n",
       "Optional argument random is a 0-argument function returning a\n",
       "random float in [0.0, 1.0); if it is the default None, the\n",
       "standard random.random will be used.\n",
       "\u001b[0;31mFile:\u001b[0m      ~/anaconda3/lib/python3.7/random.py\n",
       "\u001b[0;31mType:\u001b[0m      method\n"
      ]
     },
     "metadata": {},
     "output_type": "display_data"
    }
   ],
   "source": [
    "shuffle?"
   ]
  },
  {
   "cell_type": "code",
   "execution_count": 25,
   "metadata": {},
   "outputs": [
    {
     "data": {
      "text/plain": [
       "[47, 65, 52, 54, 52, 55, 73, 65, 53, 68, 44, 70, 54, 42, 73, 51, 58, 46, 58]"
      ]
     },
     "execution_count": 25,
     "metadata": {},
     "output_type": "execute_result"
    }
   ],
   "source": [
    "shuffle(combined) # Rearrange in-place\n",
    "combined"
   ]
  },
  {
   "cell_type": "code",
   "execution_count": 26,
   "metadata": {},
   "outputs": [
    {
     "name": "stdout",
     "output_type": "stream",
     "text": [
      "[47, 65, 52, 54, 52, 55, 73, 65, 53]\n",
      "[68, 44, 70, 54, 42, 73, 51, 58, 46, 58]\n"
     ]
    },
    {
     "data": {
      "image/png": "[encoded data removed]",
      "text/plain": [
       "<Figure size 432x288 with 1 Axes>"
      ]
     },
     "metadata": {
      "needs_background": "light"
     },
     "output_type": "display_data"
    }
   ],
   "source": [
    "# Randomly assign to drug and placebo group\n",
    "drug_random = combined[:len(drug)]\n",
    "placebo_random = combined[len(drug):]\n",
    "\n",
    "print(drug_random)\n",
    "print(placebo_random)\n",
    "\n",
    "sns.distplot(drug_random, color=\"skyblue\", label=\"Drug\", kde=False, hist=True, rug=\"True\");\n",
    "sns.distplot(placebo_random, color=\"red\", label=\"Placebo\", kde=False, hist=True, rug=\"True\");\n",
    "plt.legend();"
   ]
  },
  {
   "cell_type": "code",
   "execution_count": 27,
   "metadata": {},
   "outputs": [],
   "source": [
    "# Simulate it a bunch of times\n",
    "n = 10_000\n",
    "count = 0\n",
    "simulated_means = []\n",
    "\n",
    "for _ in range(n):\n",
    "    shuffle(combined)\n",
    "    shuffled_diff = mean(combined[:len(drug)]) - mean(combined[len(drug):])\n",
    "    simulated_means.append(shuffled_diff)\n",
    "    count += (abs(shuffled_diff) >= observed_diff) # abs() as we test two-tailed alternative hypothesis"
   ]
  },
  {
   "cell_type": "code",
   "execution_count": 28,
   "metadata": {},
   "outputs": [
    {
     "name": "stdout",
     "output_type": "stream",
     "text": [
      "10,000 label reshufflings produced only 16 instances \n",
      "with a difference at least as extreme as the observed difference of 12.97.\n"
     ]
    }
   ],
   "source": [
    "print(f\"\"\"{n:,} label reshufflings produced only {count} instances \n",
    "with a difference at least as extreme as the observed difference of {observed_diff:.2f}.\"\"\")"
   ]
  },
  {
   "cell_type": "code",
   "execution_count": 29,
   "metadata": {},
   "outputs": [
    {
     "data": {
      "text/plain": [
       "0.0016"
      ]
     },
     "execution_count": 29,
     "metadata": {},
     "output_type": "execute_result"
    }
   ],
   "source": [
    "# The p-value is a chance of observing the current difference when there is truly no difference.\n",
    "# Probability of obtaining a result equal to or more extreme than was observed in the data.\n",
    "p = count / n\n",
    "p"
   ]
  },
  {
   "cell_type": "code",
   "execution_count": 33,
   "metadata": {},
   "outputs": [
    {
     "name": "stdout",
     "output_type": "stream",
     "text": [
      "alpha=0.005, p-value=0.0016\n"
     ]
    }
   ],
   "source": [
    "print(\"alpha={}, p-value={}\".format(alpha/2,p))"
   ]
  },
  {
   "cell_type": "markdown",
   "metadata": {},
   "source": [
    "It is important to notice, that this p-value value has nothing to do with the p-value calculated with the analytical method."
   ]
  },
  {
   "cell_type": "code",
   "execution_count": 31,
   "metadata": {},
   "outputs": [
    {
     "name": "stdout",
     "output_type": "stream",
     "text": [
      "Reject the null hypothesis that the means are equal.\n"
     ]
    }
   ],
   "source": [
    "# Interpret via p-value\n",
    "if p < alpha:\n",
    "    print('Reject the null hypothesis that the means are equal.')\n",
    "else:\n",
    "    print('Accept null hypothesis that the means are equal.')"
   ]
  },
  {
   "cell_type": "markdown",
   "metadata": {},
   "source": [
    "<center><img src=\"images/p_values.png\" width=\"30%\"/></center>"
   ]
  },
  {
   "cell_type": "code",
   "execution_count": 34,
   "metadata": {},
   "outputs": [
    {
     "data": {
      "image/png": "[encoded data removed]",
      "text/plain": [
       "<Figure size 1152x576 with 1 Axes>"
      ]
     },
     "metadata": {
      "needs_background": "light"
     },
     "output_type": "display_data"
    }
   ],
   "source": [
    "# Interpret visually\n",
    "\n",
    "simulated_means = np.asarray(simulated_means)\n",
    "plt.figure(figsize=(16, 8))\n",
    "sns.distplot(simulated_means, color=\"skyblue\", kde=True, hist=True, rug=\"True\")\n",
    "plt.title(\"Simulated Differences of drug and placebo group means for the null hypothesis\", fontsize=12)\n",
    "plt.xlabel(\"Probability Means Difference\", fontsize=12)\n",
    "plt.ylabel(\"Percent\", fontsize=12)\n",
    "plt.axvline(observed_diff, color='r'); # observed mean difference"
   ]
  },
  {
   "cell_type": "markdown",
   "metadata": {},
   "source": [
    "### Permutation test result\n",
    "It is very unlikely that the observed_diff value or greater appeared if there is no difference in the groups, so **there is a difference between the drug and the placebo groups**. We have sufficient evidence to reject the null hypothesis, and conclude that the drug is effective."
   ]
  },
  {
   "cell_type": "code",
   "execution_count": null,
   "metadata": {},
   "outputs": [],
   "source": []
  },
  {
   "cell_type": "markdown",
   "metadata": {},
   "source": [
    "- [Required number of permutations for a permutation-based p-value](https://stats.stackexchange.com/questions/80025/required-number-of-permutations-for-a-permutation-based-p-value)\n",
    "- [Permutation Tests, R example](https://thomasleeper.com/Rcourse/Tutorials/permutationtests.html)\n",
    "- [What is a Permutation Test](https://www.r-bloggers.com/what-is-a-permutation-test/amp/)"
   ]
  },
  {
   "cell_type": "code",
   "execution_count": null,
   "metadata": {},
   "outputs": [],
   "source": []
  },
  {
   "cell_type": "code",
   "execution_count": null,
   "metadata": {},
   "outputs": [],
   "source": [
    "from scipy.stats import norm\n",
    "\n",
    "def tstatistic(sample1, sample2, alpha, one_tail):\n",
    "    '''\n",
    "    Calculate t-statistic for 2 samples\n",
    "    Are the two samples expected to have been drawn from the same population?\n",
    "    '''\n",
    "    # Calculate means\n",
    "    mean1, mean2 = np.mean(sample1), np.mean(sample2)\n",
    "    \n",
    "    # Calculate sample standard deviations\n",
    "    std1, std2 = np.std(sample1, ddof=1), np.std(sample2, ddof=1)\n",
    "    \n",
    "    # Calculate standard errors\n",
    "    n1, n2 = len(sample1), len(sample2)\n",
    "    se1, se2 = std1/np.sqrt(n1), std2/np.sqrt(n2)\n",
    "\n",
    "    # Standard error on the difference between the samples\n",
    "    sed = np.sqrt(se1**2.0 + se2**2.0)\n",
    "    \n",
    "    # Calculate degrees of freedom\n",
    "    df = len(sample1) + len(sample2) - 2\n",
    "    \n",
    "    # Calculate the t statistic\n",
    "    t_stat = (mean1 - mean2) / sed\n",
    "    \n",
    "    # Calculate the critical value\n",
    "    if one_tail:\n",
    "        cv = stats.t.ppf(1.0 - alpha, df)\n",
    "    else:\n",
    "        cv = stats.t.ppf(1.0 - alpha/2, df) # 2-tailed\n",
    "    \n",
    "    # Calculate the p-value\n",
    "    p = (1.0 - stats.t.cdf(abs(t_stat), df)) * 2.0\n",
    "    \n",
    "    return t_stat, df, cv, p"
   ]
  },
  {
   "cell_type": "code",
   "execution_count": null,
   "metadata": {},
   "outputs": [],
   "source": [
    "t, df, cv, p = tstatistic(drug, placebo, alpha, one_tail=False)\n",
    "t, df, cv, p"
   ]
  },
  {
   "cell_type": "code",
   "execution_count": null,
   "metadata": {},
   "outputs": [],
   "source": []
  }
 ],
 "metadata": {
  "kernelspec": {
   "display_name": "Python 3",
   "language": "python",
   "name": "python3"
  },
  "language_info": {
   "codemirror_mode": {
    "name": "ipython",
    "version": 3
   },
   "file_extension": ".py",
   "mimetype": "text/x-python",
   "name": "python",
   "nbconvert_exporter": "python",
   "pygments_lexer": "ipython3",
   "version": "3.7.1"
  }
 },
 "nbformat": 4,
 "nbformat_minor": 2
}
