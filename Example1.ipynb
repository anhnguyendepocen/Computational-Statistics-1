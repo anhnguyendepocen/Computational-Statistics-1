{
 "cells": [
  {
   "cell_type": "markdown",
   "metadata": {},
   "source": [
    "From: https://github.com/ksatola/Computational-Statistics"
   ]
  },
  {
   "cell_type": "markdown",
   "metadata": {},
   "source": [
    "### If you roll two dice, how likely is it that your sum is greater than 7?"
   ]
  },
  {
   "cell_type": "code",
   "execution_count": 1,
   "metadata": {},
   "outputs": [],
   "source": [
    "from random import choices\n",
    "from collections import Counter"
   ]
  },
  {
   "cell_type": "code",
   "execution_count": 2,
   "metadata": {},
   "outputs": [
    {
     "data": {
      "text/plain": [
       "[1, 2, 3, 4, 5, 6]"
      ]
     },
     "execution_count": 2,
     "metadata": {},
     "output_type": "execute_result"
    }
   ],
   "source": [
    "# Define a 6-sided die\n",
    "faces = list(range(1, 7))\n",
    "faces"
   ]
  },
  {
   "cell_type": "code",
   "execution_count": 4,
   "metadata": {},
   "outputs": [
    {
     "data": {
      "text/plain": [
       "[6, 5]"
      ]
     },
     "execution_count": 4,
     "metadata": {},
     "output_type": "execute_result"
    }
   ],
   "source": [
    "# A function for rolling a pair of dice\n",
    "roll_2_dice = (lambda: choices(population=faces, weights=None, k=2))\n",
    "pair = roll_2_dice()\n",
    "pair"
   ]
  },
  {
   "cell_type": "code",
   "execution_count": 5,
   "metadata": {},
   "outputs": [
    {
     "data": {
      "text/plain": [
       "11"
      ]
     },
     "execution_count": 5,
     "metadata": {},
     "output_type": "execute_result"
    }
   ],
   "source": [
    "sum(pair)"
   ]
  },
  {
   "cell_type": "code",
   "execution_count": 6,
   "metadata": {},
   "outputs": [],
   "source": [
    "# Simulate rolling a pair many times and tracking the outcomes\n",
    "rolls = [sum(roll_2_dice()) for _ in range(50_000)]\n",
    "#print(rolls)"
   ]
  },
  {
   "cell_type": "code",
   "execution_count": null,
   "metadata": {},
   "outputs": [],
   "source": [
    "Counter?"
   ]
  },
  {
   "cell_type": "code",
   "execution_count": 7,
   "metadata": {},
   "outputs": [
    {
     "name": "stdout",
     "output_type": "stream",
     "text": [
      "Counter({7: 8293, 6: 6987, 8: 6878, 9: 5646, 5: 5465, 4: 4252, 10: 4058, 11: 2832, 3: 2781, 12: 1417, 2: 1391})\n"
     ]
    }
   ],
   "source": [
    "# Count those outcomes (number of sums of paired elements)\n",
    "rolls_counts = Counter(rolls)\n",
    "print(rolls_counts) "
   ]
  },
  {
   "cell_type": "code",
   "execution_count": 9,
   "metadata": {},
   "outputs": [
    {
     "name": "stdout",
     "output_type": "stream",
     "text": [
      "{7: 8293, 6: 6987, 8: 6878, 9: 5646, 5: 5465, 4: 4252, 10: 4058, 11: 2832, 3: 2781, 12: 1417, 2: 1391}\n"
     ]
    }
   ],
   "source": [
    "# Sort by faces [0] or counts [1] and store the sorted results as a dictionary\n",
    "rolls_counts = dict(sorted(rolls_counts.items(), key=lambda x: x[1], reverse=True))\n",
    "print(rolls_counts)"
   ]
  },
  {
   "cell_type": "code",
   "execution_count": 10,
   "metadata": {},
   "outputs": [
    {
     "data": {
      "image/png": "[encoded data removed]",
      "text/plain": [
       "<Figure size 432x288 with 1 Axes>"
      ]
     },
     "metadata": {
      "needs_background": "light"
     },
     "output_type": "display_data"
    }
   ],
   "source": [
    "# Plot the outcome of simulating many dice rolling (Binomial Distribution)\n",
    "import matplotlib.pyplot as plt\n",
    "%matplotlib inline\n",
    "\n",
    "labels, values = zip(*rolls_counts.items()) # Unpack dict\n",
    "plt.bar(x=labels, height=values);"
   ]
  },
  {
   "cell_type": "code",
   "execution_count": 11,
   "metadata": {},
   "outputs": [
    {
     "data": {
      "text/plain": [
       "0.41662"
      ]
     },
     "execution_count": 11,
     "metadata": {},
     "output_type": "execute_result"
    }
   ],
   "source": [
    "# If you roll two dice, how likely is it that your sum is greater than 7\n",
    "sum(v for k, v in rolls_counts.items() if k > 7) / sum(rolls_counts.values())"
   ]
  },
  {
   "cell_type": "code",
   "execution_count": 12,
   "metadata": {},
   "outputs": [],
   "source": [
    "def duration(seconds):\n",
    "    '''\n",
    "    Encodes seconds into a formated string d:h:m:s.\n",
    "    '''\n",
    "    time = seconds\n",
    "    day = time // (24 * 3600)\n",
    "    time = time % (24 * 3600)\n",
    "    hour = time // 3600\n",
    "    time %= 3600\n",
    "    minutes = time // 60\n",
    "    time %= 60\n",
    "    seconds = time\n",
    "    print(\"d:h:m:s-> %d:%d:%d:%d\" % (day, hour, minutes, seconds))"
   ]
  },
  {
   "cell_type": "code",
   "execution_count": 13,
   "metadata": {},
   "outputs": [
    {
     "name": "stdout",
     "output_type": "stream",
     "text": [
      "The likelihood is 0.0061004925\n",
      "d:h:m:s-> 0:0:14:42\n"
     ]
    }
   ],
   "source": [
    "# If you roll seven dice, how likely is it that your sum is greater than 35?\n",
    "\n",
    "import time\n",
    "start = time.time()\n",
    "\n",
    "faces = list(range(1, 7))\n",
    "roll_7_dice = (lambda: choices(population=faces, weights=None, k=7))\n",
    "rolls7 = [sum(roll_7_dice()) for _ in range(400_000_000)]\n",
    "rolls_counts7 = Counter(rolls7)\n",
    "\n",
    "likelihood = sum(v for k, v in rolls_counts7.items() if k > 35) / sum(rolls_counts7.values())\n",
    "print(\"The likelihood is {}\".format(likelihood))\n",
    "\n",
    "duration(time.time() - start)"
   ]
  },
  {
   "cell_type": "code",
   "execution_count": null,
   "metadata": {},
   "outputs": [],
   "source": []
  },
  {
   "cell_type": "code",
   "execution_count": null,
   "metadata": {},
   "outputs": [],
   "source": []
  },
  {
   "cell_type": "code",
   "execution_count": null,
   "metadata": {},
   "outputs": [],
   "source": []
  },
  {
   "cell_type": "code",
   "execution_count": null,
   "metadata": {},
   "outputs": [],
   "source": [
    "from random import choices\n",
    "from collections import Counter\n",
    "\n",
    "# 6-sided die\n",
    "faces = list(range(1, 7))\n",
    "\n",
    "# A function for rolling a pair of dice\n",
    "roll_2_dice = (lambda: choices(population=faces, weights=None, k=2))\n",
    "\n",
    "# Simulate rolling a pair many times and tracking the outcomes\n",
    "rolls = [sum(roll_2_dice()) for _ in range(50_000)]\n",
    "\n",
    "# Count those outcomes\n",
    "rolls_counts = Counter(rolls)\n",
    "\n",
    "# If you roll two dice, how likely is it that your sum is greater than 7\n",
    "sum(v for k, v in rolls_counts.items() if k > 7) / sum(rolls_counts.values())"
   ]
  },
  {
   "cell_type": "code",
   "execution_count": null,
   "metadata": {},
   "outputs": [],
   "source": []
  },
  {
   "cell_type": "code",
   "execution_count": null,
   "metadata": {},
   "outputs": [],
   "source": []
  },
  {
   "cell_type": "code",
   "execution_count": null,
   "metadata": {},
   "outputs": [],
   "source": []
  },
  {
   "cell_type": "code",
   "execution_count": null,
   "metadata": {},
   "outputs": [],
   "source": []
  }
 ],
 "metadata": {
  "kernelspec": {
   "display_name": "Python 3",
   "language": "python",
   "name": "python3"
  },
  "language_info": {
   "codemirror_mode": {
    "name": "ipython",
    "version": 3
   },
   "file_extension": ".py",
   "mimetype": "text/x-python",
   "name": "python",
   "nbconvert_exporter": "python",
   "pygments_lexer": "ipython3",
   "version": "3.7.1"
  }
 },
 "nbformat": 4,
 "nbformat_minor": 2
}
