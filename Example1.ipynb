{
 "cells": [
  {
   "cell_type": "markdown",
   "metadata": {},
   "source": [
    "From: https://github.com/ksatola/Computational-Statistics"
   ]
  },
  {
   "cell_type": "markdown",
   "metadata": {},
   "source": [
    "### If you roll two dice, how likely is it that your sum is greater than 7?"
   ]
  },
  {
   "cell_type": "code",
   "execution_count": 1,
   "metadata": {},
   "outputs": [],
   "source": [
    "from random import choices\n",
    "from collections import Counter"
   ]
  },
  {
   "cell_type": "code",
   "execution_count": 2,
   "metadata": {},
   "outputs": [
    {
     "data": {
      "text/plain": [
       "[1, 2, 3, 4, 5, 6]"
      ]
     },
     "execution_count": 2,
     "metadata": {},
     "output_type": "execute_result"
    }
   ],
   "source": [
    "# Define a 6-sided die\n",
    "faces = list(range(1, 7))\n",
    "faces"
   ]
  },
  {
   "cell_type": "code",
   "execution_count": 3,
   "metadata": {},
   "outputs": [
    {
     "data": {
      "text/plain": [
       "[4, 3]"
      ]
     },
     "execution_count": 3,
     "metadata": {},
     "output_type": "execute_result"
    }
   ],
   "source": [
    "# A function for rolling a pair of dice\n",
    "roll_2_dice = (lambda: choices(population=faces, weights=None, k=2))\n",
    "pair = roll_2_dice()\n",
    "pair"
   ]
  },
  {
   "cell_type": "code",
   "execution_count": 4,
   "metadata": {},
   "outputs": [
    {
     "data": {
      "text/plain": [
       "7"
      ]
     },
     "execution_count": 4,
     "metadata": {},
     "output_type": "execute_result"
    }
   ],
   "source": [
    "sum(pair)"
   ]
  },
  {
   "cell_type": "code",
   "execution_count": 5,
   "metadata": {},
   "outputs": [],
   "source": [
    "# Simulate rolling a pair many times and tracking the outcomes\n",
    "rolls = [sum(roll_2_dice()) for _ in range(50_000)]\n",
    "#print(rolls)"
   ]
  },
  {
   "cell_type": "code",
   "execution_count": 6,
   "metadata": {},
   "outputs": [
    {
     "data": {
      "text/plain": [
       "\u001b[0;31mInit signature:\u001b[0m \u001b[0mCounter\u001b[0m\u001b[0;34m(\u001b[0m\u001b[0;34m*\u001b[0m\u001b[0margs\u001b[0m\u001b[0;34m,\u001b[0m \u001b[0;34m**\u001b[0m\u001b[0mkwds\u001b[0m\u001b[0;34m)\u001b[0m\u001b[0;34m\u001b[0m\u001b[0;34m\u001b[0m\u001b[0m\n",
       "\u001b[0;31mDocstring:\u001b[0m     \n",
       "Dict subclass for counting hashable items.  Sometimes called a bag\n",
       "or multiset.  Elements are stored as dictionary keys and their counts\n",
       "are stored as dictionary values.\n",
       "\n",
       ">>> c = Counter('abcdeabcdabcaba')  # count elements from a string\n",
       "\n",
       ">>> c.most_common(3)                # three most common elements\n",
       "[('a', 5), ('b', 4), ('c', 3)]\n",
       ">>> sorted(c)                       # list all unique elements\n",
       "['a', 'b', 'c', 'd', 'e']\n",
       ">>> ''.join(sorted(c.elements()))   # list elements with repetitions\n",
       "'aaaaabbbbcccdde'\n",
       ">>> sum(c.values())                 # total of all counts\n",
       "15\n",
       "\n",
       ">>> c['a']                          # count of letter 'a'\n",
       "5\n",
       ">>> for elem in 'shazam':           # update counts from an iterable\n",
       "...     c[elem] += 1                # by adding 1 to each element's count\n",
       ">>> c['a']                          # now there are seven 'a'\n",
       "7\n",
       ">>> del c['b']                      # remove all 'b'\n",
       ">>> c['b']                          # now there are zero 'b'\n",
       "0\n",
       "\n",
       ">>> d = Counter('simsalabim')       # make another counter\n",
       ">>> c.update(d)                     # add in the second counter\n",
       ">>> c['a']                          # now there are nine 'a'\n",
       "9\n",
       "\n",
       ">>> c.clear()                       # empty the counter\n",
       ">>> c\n",
       "Counter()\n",
       "\n",
       "Note:  If a count is set to zero or reduced to zero, it will remain\n",
       "in the counter until the entry is deleted or the counter is cleared:\n",
       "\n",
       ">>> c = Counter('aaabbc')\n",
       ">>> c['b'] -= 2                     # reduce the count of 'b' by two\n",
       ">>> c.most_common()                 # 'b' is still in, but its count is zero\n",
       "[('a', 3), ('c', 1), ('b', 0)]\n",
       "\u001b[0;31mInit docstring:\u001b[0m\n",
       "Create a new, empty Counter object.  And if given, count elements\n",
       "from an input iterable.  Or, initialize the count from another mapping\n",
       "of elements to their counts.\n",
       "\n",
       ">>> c = Counter()                           # a new, empty counter\n",
       ">>> c = Counter('gallahad')                 # a new counter from an iterable\n",
       ">>> c = Counter({'a': 4, 'b': 2})           # a new counter from a mapping\n",
       ">>> c = Counter(a=4, b=2)                   # a new counter from keyword args\n",
       "\u001b[0;31mFile:\u001b[0m           ~/anaconda3/lib/python3.7/collections/__init__.py\n",
       "\u001b[0;31mType:\u001b[0m           type\n",
       "\u001b[0;31mSubclasses:\u001b[0m     \n"
      ]
     },
     "metadata": {},
     "output_type": "display_data"
    }
   ],
   "source": [
    "Counter?"
   ]
  },
  {
   "cell_type": "code",
   "execution_count": 7,
   "metadata": {},
   "outputs": [
    {
     "name": "stdout",
     "output_type": "stream",
     "text": [
      "Counter({7: 8347, 6: 6990, 8: 6912, 9: 5463, 5: 5409, 10: 4282, 4: 4113, 3: 2857, 11: 2841, 2: 1439, 12: 1347})\n"
     ]
    }
   ],
   "source": [
    "# Count those outcomes (number of sums of paired elements)\n",
    "rolls_counts = Counter(rolls)\n",
    "print(rolls_counts) "
   ]
  },
  {
   "cell_type": "code",
   "execution_count": 8,
   "metadata": {},
   "outputs": [
    {
     "name": "stdout",
     "output_type": "stream",
     "text": [
      "{12: 1347, 11: 2841, 10: 4282, 9: 5463, 8: 6912, 7: 8347, 6: 6990, 5: 5409, 4: 4113, 3: 2857, 2: 1439}\n"
     ]
    }
   ],
   "source": [
    "# Sort by faces [0] or counts [1] and store the sorted results as a dictionary\n",
    "rolls_counts = dict(sorted(rolls_counts.items(), key=lambda x: x[0], reverse=True))\n",
    "print(rolls_counts)"
   ]
  },
  {
   "cell_type": "code",
   "execution_count": 9,
   "metadata": {},
   "outputs": [
    {
     "data": {
      "image/png": "[encoded data removed]",
      "text/plain": [
       "<Figure size 432x288 with 1 Axes>"
      ]
     },
     "metadata": {
      "needs_background": "light"
     },
     "output_type": "display_data"
    }
   ],
   "source": [
    "# Plot the outcome of simulating many dice rolling (Binomial Distribution)\n",
    "import matplotlib.pyplot as plt\n",
    "%matplotlib inline\n",
    "\n",
    "labels, values = zip(*rolls_counts.items()) # Unpack dict\n",
    "plt.bar(x=labels, height=values);"
   ]
  },
  {
   "cell_type": "code",
   "execution_count": 10,
   "metadata": {},
   "outputs": [
    {
     "data": {
      "text/plain": [
       "0.4169"
      ]
     },
     "execution_count": 10,
     "metadata": {},
     "output_type": "execute_result"
    }
   ],
   "source": [
    "# If you roll two dice, how likely is it that your sum is greater than 7\n",
    "sum(v for k, v in rolls_counts.items() if k > 7) / sum(rolls_counts.values())"
   ]
  },
  {
   "cell_type": "code",
   "execution_count": 11,
   "metadata": {},
   "outputs": [],
   "source": [
    "def duration(seconds):\n",
    "    '''\n",
    "    Encodes seconds into a formated string d:h:m:s.\n",
    "    '''\n",
    "    time = seconds\n",
    "    day = time // (24 * 3600)\n",
    "    time = time % (24 * 3600)\n",
    "    hour = time // 3600\n",
    "    time %= 3600\n",
    "    minutes = time // 60\n",
    "    time %= 60\n",
    "    seconds = time\n",
    "    print(\"d:h:m:s-> %d:%d:%d:%d\" % (day, hour, minutes, seconds))"
   ]
  },
  {
   "cell_type": "code",
   "execution_count": 12,
   "metadata": {},
   "outputs": [
    {
     "name": "stdout",
     "output_type": "stream",
     "text": [
      "The likelihood is 0.00610669\n",
      "d:h:m:s-> 0:0:13:25\n"
     ]
    }
   ],
   "source": [
    "# If you roll seven dice, how likely is it that your sum is greater than 35?\n",
    "\n",
    "import time\n",
    "start = time.time()\n",
    "\n",
    "faces = list(range(1, 7))\n",
    "roll_7_dice = (lambda: choices(population=faces, weights=None, k=7))\n",
    "rolls7 = [sum(roll_7_dice()) for _ in range(400_000_000)]\n",
    "rolls_counts7 = Counter(rolls7)\n",
    "\n",
    "likelihood = sum(v for k, v in rolls_counts7.items() if k > 35) / sum(rolls_counts7.values())\n",
    "print(\"The likelihood is {}\".format(likelihood))\n",
    "\n",
    "duration(time.time() - start)"
   ]
  },
  {
   "cell_type": "code",
   "execution_count": null,
   "metadata": {},
   "outputs": [],
   "source": []
  },
  {
   "cell_type": "code",
   "execution_count": null,
   "metadata": {},
   "outputs": [],
   "source": []
  },
  {
   "cell_type": "code",
   "execution_count": null,
   "metadata": {},
   "outputs": [],
   "source": []
  },
  {
   "cell_type": "code",
   "execution_count": null,
   "metadata": {},
   "outputs": [],
   "source": [
    "from random import choices\n",
    "from collections import Counter\n",
    "\n",
    "# 6-sided die\n",
    "faces = list(range(1, 7))\n",
    "\n",
    "# A function for rolling a pair of dice\n",
    "roll_2_dice = (lambda: choices(population=faces, weights=None, k=2))\n",
    "\n",
    "# Simulate rolling a pair many times and tracking the outcomes\n",
    "rolls = [sum(roll_2_dice()) for _ in range(50_000)]\n",
    "\n",
    "# Count those outcomes\n",
    "rolls_counts = Counter(rolls)\n",
    "\n",
    "# If you roll two dice, how likely is it that your sum is greater than 7\n",
    "sum(v for k, v in rolls_counts.items() if k > 7) / sum(rolls_counts.values())"
   ]
  },
  {
   "cell_type": "code",
   "execution_count": null,
   "metadata": {},
   "outputs": [],
   "source": []
  },
  {
   "cell_type": "code",
   "execution_count": null,
   "metadata": {},
   "outputs": [],
   "source": []
  },
  {
   "cell_type": "code",
   "execution_count": null,
   "metadata": {},
   "outputs": [],
   "source": []
  },
  {
   "cell_type": "code",
   "execution_count": null,
   "metadata": {},
   "outputs": [],
   "source": []
  }
 ],
 "metadata": {
  "kernelspec": {
   "display_name": "Python 3",
   "language": "python",
   "name": "python3"
  },
  "language_info": {
   "codemirror_mode": {
    "name": "ipython",
    "version": 3
   },
   "file_extension": ".py",
   "mimetype": "text/x-python",
   "name": "python",
   "nbconvert_exporter": "python",
   "pygments_lexer": "ipython3",
   "version": "3.7.1"
  }
 },
 "nbformat": 4,
 "nbformat_minor": 2
}
